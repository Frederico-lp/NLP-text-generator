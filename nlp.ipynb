{
 "cells": [
  {
   "cell_type": "code",
   "execution_count": 78,
   "metadata": {},
   "outputs": [],
   "source": [
    "import tensorflow as tf\n",
    "\n",
    "import numpy as np\n",
    "import os\n",
    "import time"
   ]
  },
  {
   "cell_type": "markdown",
   "metadata": {},
   "source": [
    "### Analyse data"
   ]
  },
  {
   "cell_type": "code",
   "execution_count": 79,
   "metadata": {},
   "outputs": [],
   "source": [
    "#path_to_file = tf.keras.utils.get_file('./autodabarca')\n",
    "path_to_file = './autodabarca.txt'"
   ]
  },
  {
   "cell_type": "code",
   "execution_count": 80,
   "metadata": {},
   "outputs": [
    {
     "name": "stdout",
     "output_type": "stream",
     "text": [
      "Length of text: 28747 characters\n",
      "DIABO\n",
      "À barca, à barca, venham lá!\n",
      "Que temos gentil maré!\n",
      "– dirigindo-se ao companheiro –\n",
      "Ora põe o barco à ré!\n",
      "COMPANHEIRO DO DIABO\n",
      "Está feito, está feito!\n",
      "DIABO\n",
      "Bem feito está!\n",
      "Vai agora, em má hora,\n",
      "Esticar aquele palanco \n",
      "E desocupar a\n"
     ]
    }
   ],
   "source": [
    "# Read, then decode for py2 compat.\n",
    "text = open(path_to_file, 'rb').read().decode(encoding='utf-8')\n",
    "# length of text is the number of characters in it\n",
    "print(f'Length of text: {len(text)} characters')\n",
    "# Take a look at the first 250 characters in text\n",
    "print(text[:250])"
   ]
  },
  {
   "cell_type": "code",
   "execution_count": 81,
   "metadata": {},
   "outputs": [
    {
     "name": "stdout",
     "output_type": "stream",
     "text": [
      "80 unique characters\n",
      "['\\n', '\\r', ' ', '!', '\"', \"'\", ',', '-', '.', '1', '2', ':', ';', '?', 'A', 'B', 'C', 'D', 'E', 'F', 'G', 'H', 'I', 'J', 'L', 'M', 'N', 'O', 'P', 'Q', 'R', 'S', 'T', 'U', 'V', 'Z', 'a', 'b', 'c', 'd', 'e', 'f', 'g', 'h', 'i', 'j', 'l', 'm', 'n', 'o', 'p', 'q', 'r', 's', 't', 'u', 'v', 'x', 'z', 'º', 'À', 'Â', 'É', 'Í', 'Ó', 'Ú', 'à', 'á', 'ã', 'ç', 'é', 'ê', 'í', 'ó', 'ô', 'õ', 'ú', '–', '”', '…']\n"
     ]
    }
   ],
   "source": [
    "# The unique characters in the file\n",
    "vocab = sorted(set(text))\n",
    "print(f'{len(vocab)} unique characters')\n",
    "print(vocab)"
   ]
  },
  {
   "cell_type": "markdown",
   "metadata": {},
   "source": [
    "### Prepare data"
   ]
  },
  {
   "cell_type": "code",
   "execution_count": 82,
   "metadata": {},
   "outputs": [],
   "source": [
    "ids_from_chars = tf.keras.layers.StringLookup(\n",
    "    vocabulary=list(vocab), mask_token=None)"
   ]
  },
  {
   "cell_type": "code",
   "execution_count": 83,
   "metadata": {},
   "outputs": [],
   "source": [
    "chars_from_ids = tf.keras.layers.StringLookup(\n",
    "    vocabulary=ids_from_chars.get_vocabulary(), invert=True, mask_token=None)"
   ]
  },
  {
   "cell_type": "code",
   "execution_count": 84,
   "metadata": {},
   "outputs": [],
   "source": [
    "def text_from_ids(ids):\n",
    "  return tf.strings.reduce_join(chars_from_ids(ids), axis=-1)"
   ]
  },
  {
   "cell_type": "markdown",
   "metadata": {},
   "source": [
    "Split the text into characters and convert each character into a numeric ID"
   ]
  },
  {
   "cell_type": "code",
   "execution_count": 85,
   "metadata": {},
   "outputs": [
    {
     "data": {
      "text/plain": [
       "<tf.Tensor: shape=(28747,), dtype=int64, numpy=array([18, 23, 15, ..., 37, 48,  9], dtype=int64)>"
      ]
     },
     "execution_count": 85,
     "metadata": {},
     "output_type": "execute_result"
    }
   ],
   "source": [
    "all_ids = ids_from_chars(tf.strings.unicode_split(text, 'UTF-8'))\n",
    "all_ids"
   ]
  },
  {
   "cell_type": "code",
   "execution_count": 86,
   "metadata": {},
   "outputs": [],
   "source": [
    "ids_dataset = tf.data.Dataset.from_tensor_slices(all_ids)"
   ]
  },
  {
   "cell_type": "code",
   "execution_count": 87,
   "metadata": {},
   "outputs": [
    {
     "name": "stdout",
     "output_type": "stream",
     "text": [
      "D\n",
      "I\n",
      "A\n",
      "B\n",
      "O\n",
      "\n",
      "\n",
      "\n",
      "À\n",
      " \n",
      "b\n"
     ]
    }
   ],
   "source": [
    "for ids in ids_dataset.take(10):\n",
    "    print(chars_from_ids(ids).numpy().decode('utf-8'))"
   ]
  },
  {
   "cell_type": "code",
   "execution_count": 88,
   "metadata": {},
   "outputs": [],
   "source": [
    "seq_length = 100"
   ]
  },
  {
   "cell_type": "code",
   "execution_count": 89,
   "metadata": {},
   "outputs": [
    {
     "name": "stdout",
     "output_type": "stream",
     "text": [
      "tf.Tensor(\n",
      "[b'D' b'I' b'A' b'B' b'O' b'\\r' b'\\n' b'\\xc3\\x80' b' ' b'b' b'a' b'r' b'c'\n",
      " b'a' b',' b' ' b'\\xc3\\xa0' b' ' b'b' b'a' b'r' b'c' b'a' b',' b' ' b'v'\n",
      " b'e' b'n' b'h' b'a' b'm' b' ' b'l' b'\\xc3\\xa1' b'!' b'\\r' b'\\n' b'Q' b'u'\n",
      " b'e' b' ' b't' b'e' b'm' b'o' b's' b' ' b'g' b'e' b'n' b't' b'i' b'l'\n",
      " b' ' b'm' b'a' b'r' b'\\xc3\\xa9' b'!' b'\\r' b'\\n' b'\\xe2\\x80\\x93' b' '\n",
      " b'd' b'i' b'r' b'i' b'g' b'i' b'n' b'd' b'o' b'-' b's' b'e' b' ' b'a'\n",
      " b'o' b' ' b'c' b'o' b'm' b'p' b'a' b'n' b'h' b'e' b'i' b'r' b'o' b' '\n",
      " b'\\xe2\\x80\\x93' b'\\r' b'\\n' b'O' b'r' b'a' b' ' b'p' b'\\xc3\\xb5' b'e'], shape=(101,), dtype=string)\n"
     ]
    }
   ],
   "source": [
    "#create batches for training\n",
    "sequences = ids_dataset.batch(seq_length+1, drop_remainder=True)\n",
    "\n",
    "for seq in sequences.take(1):\n",
    "  print(chars_from_ids(seq))"
   ]
  },
  {
   "cell_type": "code",
   "execution_count": 90,
   "metadata": {},
   "outputs": [
    {
     "name": "stdout",
     "output_type": "stream",
     "text": [
      "b'DIABO\\r\\n\\xc3\\x80 barca, \\xc3\\xa0 barca, venham l\\xc3\\xa1!\\r\\nQue temos gentil mar\\xc3\\xa9!\\r\\n\\xe2\\x80\\x93 dirigindo-se ao companheiro \\xe2\\x80\\x93\\r\\nOra p\\xc3\\xb5e'\n",
      "b' o barco \\xc3\\xa0 r\\xc3\\xa9!\\r\\nCOMPANHEIRO DO DIABO\\r\\nEst\\xc3\\xa1 feito, est\\xc3\\xa1 feito!\\r\\nDIABO\\r\\nBem feito est\\xc3\\xa1!\\r\\nVai agora, em '\n",
      "b'm\\xc3\\xa1 hora,\\r\\nEsticar aquele palanco \\r\\nE desocupar aquele banco,\\r\\nPara a gente que vir\\xc3\\xa1.\\r\\n\\xe2\\x80\\x93 falando para '\n",
      "b'o ar \\xe2\\x80\\x93\\r\\n\\xc3\\x80 barca, \\xc3\\xa0 barca, hu-u!\\r\\nDepressinha, que se quer ir!\\r\\nOh, que tempo para partir,\\r\\nLouvores a'\n",
      "b' Belzebu!\\r\\n\\xe2\\x80\\x93 dirigindo-se ao companheiro \\xe2\\x80\\x93\\r\\nMas ent\\xc3\\xa3o! que fazes tu?\\r\\nLimpa todo aquele leito! \\r\\nCOMP'\n"
     ]
    }
   ],
   "source": [
    "for seq in sequences.take(5):\n",
    "  print(text_from_ids(seq).numpy())"
   ]
  },
  {
   "cell_type": "markdown",
   "metadata": {},
   "source": [
    "Takes a sequence as input, duplicates, and shifts it to align the input and label for each timestep:"
   ]
  },
  {
   "cell_type": "code",
   "execution_count": 91,
   "metadata": {},
   "outputs": [],
   "source": [
    "def split_input_target(sequence):\n",
    "    input_text = sequence[:-1]\n",
    "    target_text = sequence[1:]\n",
    "    return input_text, target_text"
   ]
  },
  {
   "cell_type": "code",
   "execution_count": 92,
   "metadata": {},
   "outputs": [],
   "source": [
    "dataset = sequences.map(split_input_target)"
   ]
  },
  {
   "cell_type": "markdown",
   "metadata": {},
   "source": [
    "### Create training batches"
   ]
  },
  {
   "cell_type": "code",
   "execution_count": 93,
   "metadata": {},
   "outputs": [
    {
     "data": {
      "text/plain": [
       "<PrefetchDataset shapes: ((64, 100), (64, 100)), types: (tf.int64, tf.int64)>"
      ]
     },
     "execution_count": 93,
     "metadata": {},
     "output_type": "execute_result"
    }
   ],
   "source": [
    "# Batch size\n",
    "BATCH_SIZE = 64\n",
    "\n",
    "# Buffer size to shuffle the dataset\n",
    "# (TF data is designed to work with possibly infinite sequences,\n",
    "# so it doesn't attempt to shuffle the entire sequence in memory. Instead,\n",
    "# it maintains a buffer in which it shuffles elements).\n",
    "BUFFER_SIZE = 10000\n",
    "\n",
    "dataset = (\n",
    "    dataset\n",
    "    .shuffle(BUFFER_SIZE)\n",
    "    .batch(BATCH_SIZE, drop_remainder=True)\n",
    "    .prefetch(tf.data.experimental.AUTOTUNE))\n",
    "\n",
    "dataset"
   ]
  },
  {
   "cell_type": "markdown",
   "metadata": {},
   "source": [
    "# Build The Model"
   ]
  },
  {
   "cell_type": "code",
   "execution_count": 94,
   "metadata": {},
   "outputs": [],
   "source": [
    "# Length of the vocabulary in StringLookup Layer\n",
    "vocab_size = len(ids_from_chars.get_vocabulary())\n",
    "\n",
    "# The embedding dimension\n",
    "embedding_dim = 256\n",
    "\n",
    "# Number of RNN units\n",
    "rnn_units = 1024"
   ]
  },
  {
   "cell_type": "code",
   "execution_count": 95,
   "metadata": {},
   "outputs": [],
   "source": [
    "class MyModel(tf.keras.Model):\n",
    "  def __init__(self, vocab_size, embedding_dim, rnn_units):\n",
    "    super().__init__(self)\n",
    "    self.embedding = tf.keras.layers.Embedding(vocab_size, embedding_dim)\n",
    "    self.gru = tf.keras.layers.GRU(rnn_units,\n",
    "                                   return_sequences=True,\n",
    "                                   return_state=True)\n",
    "    self.dense = tf.keras.layers.Dense(vocab_size)\n",
    "\n",
    "  def call(self, inputs, states=None, return_state=False, training=False):\n",
    "    x = inputs\n",
    "    x = self.embedding(x, training=training)\n",
    "    if states is None:\n",
    "      states = self.gru.get_initial_state(x)\n",
    "    x, states = self.gru(x, initial_state=states, training=training)\n",
    "    x = self.dense(x, training=training)\n",
    "\n",
    "    if return_state:\n",
    "      return x, states\n",
    "    else:\n",
    "      return x"
   ]
  },
  {
   "cell_type": "code",
   "execution_count": 96,
   "metadata": {},
   "outputs": [],
   "source": [
    "model = MyModel(\n",
    "    vocab_size=vocab_size,\n",
    "    embedding_dim=embedding_dim,\n",
    "    rnn_units=rnn_units)"
   ]
  },
  {
   "cell_type": "code",
   "execution_count": 97,
   "metadata": {},
   "outputs": [
    {
     "name": "stdout",
     "output_type": "stream",
     "text": [
      "(64, 100, 81) # (batch_size, sequence_length, vocab_size)\n"
     ]
    }
   ],
   "source": [
    "for input_example_batch, target_example_batch in dataset.take(1):\n",
    "    example_batch_predictions = model(input_example_batch)\n",
    "    print(example_batch_predictions.shape, \"# (batch_size, sequence_length, vocab_size)\")"
   ]
  },
  {
   "cell_type": "code",
   "execution_count": 98,
   "metadata": {},
   "outputs": [
    {
     "name": "stdout",
     "output_type": "stream",
     "text": [
      "Model: \"my_model_3\"\n",
      "_________________________________________________________________\n",
      "Layer (type)                 Output Shape              Param #   \n",
      "=================================================================\n",
      "embedding_3 (Embedding)      multiple                  20736     \n",
      "_________________________________________________________________\n",
      "gru_3 (GRU)                  multiple                  3938304   \n",
      "_________________________________________________________________\n",
      "dense_3 (Dense)              multiple                  83025     \n",
      "=================================================================\n",
      "Total params: 4,042,065\n",
      "Trainable params: 4,042,065\n",
      "Non-trainable params: 0\n",
      "_________________________________________________________________\n"
     ]
    }
   ],
   "source": [
    "model.summary()"
   ]
  },
  {
   "cell_type": "code",
   "execution_count": 99,
   "metadata": {},
   "outputs": [
    {
     "data": {
      "text/plain": [
       "array([41, 78, 65, 55, 26, 22,  9, 49, 29, 68, 61, 66,  5, 67, 38, 15, 62,\n",
       "       63, 46,  1, 76, 76,  8, 48, 26, 23, 42, 17, 72, 67, 69, 76, 15, 40,\n",
       "       28, 68, 31, 80, 64, 10, 26, 34, 31, 79, 55, 47, 76, 73, 75, 15, 56,\n",
       "       24, 43,  1,  2, 27, 44, 25, 41, 55, 70, 80, 53, 63,  9, 17, 39,  2,\n",
       "       15, 60, 66, 32,  3,  4, 26, 73, 28, 72, 65, 49, 72, 40, 35, 50, 53,\n",
       "       21, 51, 16, 76, 13, 39,  2, 71, 26, 80, 33, 19,  4, 29, 70],\n",
       "      dtype=int64)"
      ]
     },
     "execution_count": 99,
     "metadata": {},
     "output_type": "execute_result"
    }
   ],
   "source": [
    "sampled_indices = tf.random.categorical(example_batch_predictions[0], num_samples=1)\n",
    "sampled_indices = tf.squeeze(sampled_indices, axis=-1).numpy()\n",
    "sampled_indices"
   ]
  },
  {
   "cell_type": "markdown",
   "metadata": {},
   "source": [
    "Text generated by the model before training:"
   ]
  },
  {
   "cell_type": "code",
   "execution_count": 100,
   "metadata": {},
   "outputs": [
    {
     "name": "stdout",
     "output_type": "stream",
     "text": [
      "Input:\n",
      " b'de \\xc3\\xa9 a passagem?\\r\\nDIABO\\r\\nPara a infernal comarca.\\r\\nONZENEIRO\\r\\nDix! N\\xc3\\xa3o vou eu em tal barca.\\r\\nAquela '\n",
      "\n",
      "Next Char Predictions:\n",
      " b'e\\xe2\\x80\\x93\\xc3\\x93tMH.nP\\xc3\\xa1\\xc3\\x80\\xc3\\x9a\"\\xc3\\xa0bA\\xc3\\x82\\xc3\\x89j\\n\\xc3\\xb5\\xc3\\xb5-mMIfC\\xc3\\xaa\\xc3\\xa0\\xc3\\xa3\\xc3\\xb5AdO\\xc3\\xa1R\\xe2\\x80\\xa6\\xc3\\x8d1MUR\\xe2\\x80\\x9dtl\\xc3\\xb5\\xc3\\xad\\xc3\\xb4AuJg\\n\\rNhLet\\xc3\\xa7\\xe2\\x80\\xa6r\\xc3\\x89.Cc\\rA\\xc2\\xba\\xc3\\x9aS !M\\xc3\\xadO\\xc3\\xaa\\xc3\\x93n\\xc3\\xaadVorGpB\\xc3\\xb5;c\\r\\xc3\\xa9M\\xe2\\x80\\xa6TE!P\\xc3\\xa7'\n"
     ]
    }
   ],
   "source": [
    "print(\"Input:\\n\", text_from_ids(input_example_batch[0]).numpy())\n",
    "print()\n",
    "print(\"Next Char Predictions:\\n\", text_from_ids(sampled_indices).numpy())"
   ]
  },
  {
   "cell_type": "markdown",
   "metadata": {},
   "source": [
    "### Train the model"
   ]
  },
  {
   "cell_type": "code",
   "execution_count": 101,
   "metadata": {},
   "outputs": [],
   "source": [
    "loss = tf.losses.SparseCategoricalCrossentropy(from_logits=True)"
   ]
  },
  {
   "cell_type": "code",
   "execution_count": 102,
   "metadata": {},
   "outputs": [
    {
     "name": "stdout",
     "output_type": "stream",
     "text": [
      "Prediction shape:  (64, 100, 81)  # (batch_size, sequence_length, vocab_size)\n",
      "Mean loss:         tf.Tensor(4.3944597, shape=(), dtype=float32)\n"
     ]
    }
   ],
   "source": [
    "example_batch_mean_loss = loss(target_example_batch, example_batch_predictions)\n",
    "print(\"Prediction shape: \", example_batch_predictions.shape, \" # (batch_size, sequence_length, vocab_size)\")\n",
    "print(\"Mean loss:        \", example_batch_mean_loss)"
   ]
  },
  {
   "cell_type": "code",
   "execution_count": 103,
   "metadata": {},
   "outputs": [
    {
     "data": {
      "text/plain": [
       "81.000854"
      ]
     },
     "execution_count": 103,
     "metadata": {},
     "output_type": "execute_result"
    }
   ],
   "source": [
    "tf.exp(example_batch_mean_loss).numpy()"
   ]
  },
  {
   "cell_type": "code",
   "execution_count": 104,
   "metadata": {},
   "outputs": [],
   "source": [
    "model.compile(optimizer='adam', loss=loss)"
   ]
  },
  {
   "cell_type": "code",
   "execution_count": 105,
   "metadata": {},
   "outputs": [],
   "source": [
    "# Directory where the checkpoints will be saved\n",
    "checkpoint_dir = './training_checkpoints'\n",
    "# Name of the checkpoint files\n",
    "checkpoint_prefix = os.path.join(checkpoint_dir, \"ckpt_{epoch}\")\n",
    "\n",
    "checkpoint_callback = tf.keras.callbacks.ModelCheckpoint(\n",
    "    filepath=checkpoint_prefix,\n",
    "    save_weights_only=True)"
   ]
  },
  {
   "cell_type": "markdown",
   "metadata": {},
   "source": [
    "### Execute the training"
   ]
  },
  {
   "cell_type": "code",
   "execution_count": 106,
   "metadata": {},
   "outputs": [],
   "source": [
    "EPOCHS = 150"
   ]
  },
  {
   "cell_type": "code",
   "execution_count": 107,
   "metadata": {},
   "outputs": [
    {
     "name": "stdout",
     "output_type": "stream",
     "text": [
      "Epoch 1/150\n",
      "4/4 [==============================] - 4s 97ms/step - loss: 4.3016\n",
      "Epoch 2/150\n",
      "4/4 [==============================] - 0s 88ms/step - loss: 4.4570\n",
      "Epoch 3/150\n",
      "4/4 [==============================] - 0s 87ms/step - loss: 4.1529\n",
      "Epoch 4/150\n",
      "4/4 [==============================] - 0s 88ms/step - loss: 4.0240\n",
      "Epoch 5/150\n",
      "4/4 [==============================] - 0s 88ms/step - loss: 3.7411\n",
      "Epoch 6/150\n",
      "4/4 [==============================] - 1s 91ms/step - loss: 3.4959\n",
      "Epoch 7/150\n",
      "4/4 [==============================] - 0s 87ms/step - loss: 3.2952\n",
      "Epoch 8/150\n",
      "4/4 [==============================] - 0s 92ms/step - loss: 3.2013\n",
      "Epoch 9/150\n",
      "4/4 [==============================] - 0s 88ms/step - loss: 3.0607\n",
      "Epoch 10/150\n",
      "4/4 [==============================] - 0s 86ms/step - loss: 2.9547\n",
      "Epoch 11/150\n",
      "4/4 [==============================] - 0s 87ms/step - loss: 2.8312\n",
      "Epoch 12/150\n",
      "4/4 [==============================] - 0s 88ms/step - loss: 2.7137\n",
      "Epoch 13/150\n",
      "4/4 [==============================] - 0s 89ms/step - loss: 2.6113\n",
      "Epoch 14/150\n",
      "4/4 [==============================] - 0s 89ms/step - loss: 2.5215\n",
      "Epoch 15/150\n",
      "4/4 [==============================] - 0s 88ms/step - loss: 2.4507\n",
      "Epoch 16/150\n",
      "4/4 [==============================] - 0s 88ms/step - loss: 2.3929\n",
      "Epoch 17/150\n",
      "4/4 [==============================] - 0s 89ms/step - loss: 2.3409\n",
      "Epoch 18/150\n",
      "4/4 [==============================] - 0s 89ms/step - loss: 2.2935\n",
      "Epoch 19/150\n",
      "4/4 [==============================] - 0s 89ms/step - loss: 2.2503\n",
      "Epoch 20/150\n",
      "4/4 [==============================] - 0s 91ms/step - loss: 2.2148\n",
      "Epoch 21/150\n",
      "4/4 [==============================] - 0s 87ms/step - loss: 2.1893\n",
      "Epoch 22/150\n",
      "4/4 [==============================] - 0s 87ms/step - loss: 2.1623\n",
      "Epoch 23/150\n",
      "4/4 [==============================] - 0s 89ms/step - loss: 2.1334\n",
      "Epoch 24/150\n",
      "4/4 [==============================] - 0s 89ms/step - loss: 2.1090\n",
      "Epoch 25/150\n",
      "4/4 [==============================] - 0s 88ms/step - loss: 2.0830\n",
      "Epoch 26/150\n",
      "4/4 [==============================] - 0s 88ms/step - loss: 2.0623\n",
      "Epoch 27/150\n",
      "4/4 [==============================] - 0s 88ms/step - loss: 2.0390\n",
      "Epoch 28/150\n",
      "4/4 [==============================] - 0s 89ms/step - loss: 2.0234\n",
      "Epoch 29/150\n",
      "4/4 [==============================] - 0s 89ms/step - loss: 1.9991\n",
      "Epoch 30/150\n",
      "4/4 [==============================] - 0s 89ms/step - loss: 1.9751\n",
      "Epoch 31/150\n",
      "4/4 [==============================] - 0s 88ms/step - loss: 1.9648\n",
      "Epoch 32/150\n",
      "4/4 [==============================] - 0s 88ms/step - loss: 1.9428\n",
      "Epoch 33/150\n",
      "4/4 [==============================] - 0s 87ms/step - loss: 1.9299\n",
      "Epoch 34/150\n",
      "4/4 [==============================] - 1s 93ms/step - loss: 1.9134\n",
      "Epoch 35/150\n",
      "4/4 [==============================] - 1s 92ms/step - loss: 1.9026\n",
      "Epoch 36/150\n",
      "4/4 [==============================] - 0s 86ms/step - loss: 1.8777\n",
      "Epoch 37/150\n",
      "4/4 [==============================] - 0s 86ms/step - loss: 1.8739\n",
      "Epoch 38/150\n",
      "4/4 [==============================] - 1s 96ms/step - loss: 1.8446\n",
      "Epoch 39/150\n",
      "4/4 [==============================] - 0s 87ms/step - loss: 1.8432\n",
      "Epoch 40/150\n",
      "4/4 [==============================] - 1s 93ms/step - loss: 1.8252\n",
      "Epoch 41/150\n",
      "4/4 [==============================] - 0s 89ms/step - loss: 1.7986\n",
      "Epoch 42/150\n",
      "4/4 [==============================] - 1s 94ms/step - loss: 1.7893\n",
      "Epoch 43/150\n",
      "4/4 [==============================] - 0s 88ms/step - loss: 1.7853\n",
      "Epoch 44/150\n",
      "4/4 [==============================] - 1s 91ms/step - loss: 1.7673\n",
      "Epoch 45/150\n",
      "4/4 [==============================] - 0s 87ms/step - loss: 1.7500\n",
      "Epoch 46/150\n",
      "4/4 [==============================] - 1s 91ms/step - loss: 1.7371\n",
      "Epoch 47/150\n",
      "4/4 [==============================] - 1s 92ms/step - loss: 1.7256\n",
      "Epoch 48/150\n",
      "4/4 [==============================] - 1s 91ms/step - loss: 1.7126\n",
      "Epoch 49/150\n",
      "4/4 [==============================] - 1s 90ms/step - loss: 1.6922\n",
      "Epoch 50/150\n",
      "4/4 [==============================] - 1s 92ms/step - loss: 1.6826\n",
      "Epoch 51/150\n",
      "4/4 [==============================] - 1s 91ms/step - loss: 1.6726\n",
      "Epoch 52/150\n",
      "4/4 [==============================] - 1s 90ms/step - loss: 1.6516\n",
      "Epoch 53/150\n",
      "4/4 [==============================] - 0s 85ms/step - loss: 1.6370\n",
      "Epoch 54/150\n",
      "4/4 [==============================] - 0s 88ms/step - loss: 1.6251\n",
      "Epoch 55/150\n",
      "4/4 [==============================] - 0s 86ms/step - loss: 1.6100\n",
      "Epoch 56/150\n",
      "4/4 [==============================] - 0s 85ms/step - loss: 1.5898\n",
      "Epoch 57/150\n",
      "4/4 [==============================] - 0s 86ms/step - loss: 1.5733\n",
      "Epoch 58/150\n",
      "4/4 [==============================] - 0s 84ms/step - loss: 1.5514\n",
      "Epoch 59/150\n",
      "4/4 [==============================] - 1s 92ms/step - loss: 1.5343\n",
      "Epoch 60/150\n",
      "4/4 [==============================] - 0s 89ms/step - loss: 1.5206\n",
      "Epoch 61/150\n",
      "4/4 [==============================] - 0s 87ms/step - loss: 1.4931\n",
      "Epoch 62/150\n",
      "4/4 [==============================] - 0s 88ms/step - loss: 1.4813\n",
      "Epoch 63/150\n",
      "4/4 [==============================] - 0s 89ms/step - loss: 1.4571\n",
      "Epoch 64/150\n",
      "4/4 [==============================] - 1s 93ms/step - loss: 1.4459\n",
      "Epoch 65/150\n",
      "4/4 [==============================] - 0s 89ms/step - loss: 1.4173\n",
      "Epoch 66/150\n",
      "4/4 [==============================] - 0s 87ms/step - loss: 1.3951\n",
      "Epoch 67/150\n",
      "4/4 [==============================] - 0s 87ms/step - loss: 1.3728\n",
      "Epoch 68/150\n",
      "4/4 [==============================] - 1s 98ms/step - loss: 1.3519\n",
      "Epoch 69/150\n",
      "4/4 [==============================] - 0s 88ms/step - loss: 1.3231\n",
      "Epoch 70/150\n",
      "4/4 [==============================] - 0s 88ms/step - loss: 1.3085\n",
      "Epoch 71/150\n",
      "4/4 [==============================] - 0s 87ms/step - loss: 1.2815\n",
      "Epoch 72/150\n",
      "4/4 [==============================] - 0s 86ms/step - loss: 1.2405\n",
      "Epoch 73/150\n",
      "4/4 [==============================] - 0s 86ms/step - loss: 1.2310\n",
      "Epoch 74/150\n",
      "4/4 [==============================] - 0s 84ms/step - loss: 1.1936\n",
      "Epoch 75/150\n",
      "4/4 [==============================] - 0s 86ms/step - loss: 1.1593\n",
      "Epoch 76/150\n",
      "4/4 [==============================] - 0s 84ms/step - loss: 1.1420\n",
      "Epoch 77/150\n",
      "4/4 [==============================] - 0s 85ms/step - loss: 1.1158\n",
      "Epoch 78/150\n",
      "4/4 [==============================] - 0s 85ms/step - loss: 1.0804\n",
      "Epoch 79/150\n",
      "4/4 [==============================] - 0s 86ms/step - loss: 1.0424\n",
      "Epoch 80/150\n",
      "4/4 [==============================] - 0s 86ms/step - loss: 1.0145\n",
      "Epoch 81/150\n",
      "4/4 [==============================] - 0s 88ms/step - loss: 0.9807\n",
      "Epoch 82/150\n",
      "4/4 [==============================] - 0s 88ms/step - loss: 0.9473\n",
      "Epoch 83/150\n",
      "4/4 [==============================] - 0s 88ms/step - loss: 0.9161\n",
      "Epoch 84/150\n",
      "4/4 [==============================] - 0s 88ms/step - loss: 0.8763\n",
      "Epoch 85/150\n",
      "4/4 [==============================] - 0s 89ms/step - loss: 0.8350\n",
      "Epoch 86/150\n",
      "4/4 [==============================] - 0s 87ms/step - loss: 0.8023\n",
      "Epoch 87/150\n",
      "4/4 [==============================] - 0s 87ms/step - loss: 0.7725\n",
      "Epoch 88/150\n",
      "4/4 [==============================] - 0s 88ms/step - loss: 0.7335\n",
      "Epoch 89/150\n",
      "4/4 [==============================] - 0s 86ms/step - loss: 0.6979\n",
      "Epoch 90/150\n",
      "4/4 [==============================] - 0s 88ms/step - loss: 0.6683\n",
      "Epoch 91/150\n",
      "4/4 [==============================] - 0s 90ms/step - loss: 0.6361\n",
      "Epoch 92/150\n",
      "4/4 [==============================] - 0s 85ms/step - loss: 0.6019\n",
      "Epoch 93/150\n",
      "4/4 [==============================] - 0s 85ms/step - loss: 0.5886\n",
      "Epoch 94/150\n",
      "4/4 [==============================] - 0s 86ms/step - loss: 0.5491\n",
      "Epoch 95/150\n",
      "4/4 [==============================] - 0s 87ms/step - loss: 0.5142\n",
      "Epoch 96/150\n",
      "4/4 [==============================] - 0s 86ms/step - loss: 0.4782\n",
      "Epoch 97/150\n",
      "4/4 [==============================] - 0s 101ms/step - loss: 0.4441\n",
      "Epoch 98/150\n",
      "4/4 [==============================] - 1s 91ms/step - loss: 0.4106\n",
      "Epoch 99/150\n",
      "4/4 [==============================] - 1s 92ms/step - loss: 0.3842\n",
      "Epoch 100/150\n",
      "4/4 [==============================] - 0s 87ms/step - loss: 0.3551\n",
      "Epoch 101/150\n",
      "4/4 [==============================] - 0s 87ms/step - loss: 0.3342\n",
      "Epoch 102/150\n",
      "4/4 [==============================] - 1s 89ms/step - loss: 0.3092\n",
      "Epoch 103/150\n",
      "4/4 [==============================] - 1s 89ms/step - loss: 0.2846\n",
      "Epoch 104/150\n",
      "4/4 [==============================] - 1s 92ms/step - loss: 0.2653\n",
      "Epoch 105/150\n",
      "4/4 [==============================] - 1s 91ms/step - loss: 0.2499\n",
      "Epoch 106/150\n",
      "4/4 [==============================] - 1s 91ms/step - loss: 0.2314\n",
      "Epoch 107/150\n",
      "4/4 [==============================] - 1s 91ms/step - loss: 0.2171\n",
      "Epoch 108/150\n",
      "4/4 [==============================] - 1s 90ms/step - loss: 0.2022\n",
      "Epoch 109/150\n",
      "4/4 [==============================] - 0s 86ms/step - loss: 0.1886\n",
      "Epoch 110/150\n",
      "4/4 [==============================] - 1s 93ms/step - loss: 0.1795\n",
      "Epoch 111/150\n",
      "4/4 [==============================] - 0s 87ms/step - loss: 0.1688\n",
      "Epoch 112/150\n",
      "4/4 [==============================] - 0s 88ms/step - loss: 0.1595\n",
      "Epoch 113/150\n",
      "4/4 [==============================] - 0s 87ms/step - loss: 0.1546\n",
      "Epoch 114/150\n",
      "4/4 [==============================] - 1s 91ms/step - loss: 0.1467\n",
      "Epoch 115/150\n",
      "4/4 [==============================] - 0s 88ms/step - loss: 0.1402\n",
      "Epoch 116/150\n",
      "4/4 [==============================] - 0s 87ms/step - loss: 0.1326\n",
      "Epoch 117/150\n",
      "4/4 [==============================] - 0s 89ms/step - loss: 0.1267\n",
      "Epoch 118/150\n",
      "4/4 [==============================] - 0s 89ms/step - loss: 0.1201\n",
      "Epoch 119/150\n",
      "4/4 [==============================] - 0s 86ms/step - loss: 0.1143\n",
      "Epoch 120/150\n",
      "4/4 [==============================] - 0s 88ms/step - loss: 0.1103\n",
      "Epoch 121/150\n",
      "4/4 [==============================] - 0s 88ms/step - loss: 0.1050\n",
      "Epoch 122/150\n",
      "4/4 [==============================] - 0s 88ms/step - loss: 0.1012\n",
      "Epoch 123/150\n",
      "4/4 [==============================] - 0s 88ms/step - loss: 0.0979\n",
      "Epoch 124/150\n",
      "4/4 [==============================] - 0s 88ms/step - loss: 0.0932\n",
      "Epoch 125/150\n",
      "4/4 [==============================] - 1s 95ms/step - loss: 0.0904\n",
      "Epoch 126/150\n",
      "4/4 [==============================] - 0s 87ms/step - loss: 0.0859\n",
      "Epoch 127/150\n",
      "4/4 [==============================] - 0s 88ms/step - loss: 0.0834\n",
      "Epoch 128/150\n",
      "4/4 [==============================] - 0s 86ms/step - loss: 0.0810\n",
      "Epoch 129/150\n",
      "4/4 [==============================] - 0s 86ms/step - loss: 0.0784\n",
      "Epoch 130/150\n",
      "4/4 [==============================] - 0s 86ms/step - loss: 0.0758\n",
      "Epoch 131/150\n",
      "4/4 [==============================] - 0s 86ms/step - loss: 0.0744\n",
      "Epoch 132/150\n",
      "4/4 [==============================] - 1s 89ms/step - loss: 0.0717\n",
      "Epoch 133/150\n",
      "4/4 [==============================] - 1s 89ms/step - loss: 0.0700\n",
      "Epoch 134/150\n",
      "4/4 [==============================] - 0s 86ms/step - loss: 0.0674\n",
      "Epoch 135/150\n",
      "4/4 [==============================] - 0s 84ms/step - loss: 0.0665\n",
      "Epoch 136/150\n",
      "4/4 [==============================] - 0s 87ms/step - loss: 0.0639\n",
      "Epoch 137/150\n",
      "4/4 [==============================] - 0s 85ms/step - loss: 0.0623\n",
      "Epoch 138/150\n",
      "4/4 [==============================] - 0s 86ms/step - loss: 0.0619\n",
      "Epoch 139/150\n",
      "4/4 [==============================] - 0s 85ms/step - loss: 0.0593\n",
      "Epoch 140/150\n",
      "4/4 [==============================] - 0s 87ms/step - loss: 0.0577\n",
      "Epoch 141/150\n",
      "4/4 [==============================] - 0s 88ms/step - loss: 0.0572\n",
      "Epoch 142/150\n",
      "4/4 [==============================] - 0s 88ms/step - loss: 0.0551\n",
      "Epoch 143/150\n",
      "4/4 [==============================] - 0s 92ms/step - loss: 0.0547\n",
      "Epoch 144/150\n",
      "4/4 [==============================] - 1s 93ms/step - loss: 0.0532\n",
      "Epoch 145/150\n",
      "4/4 [==============================] - 0s 85ms/step - loss: 0.0520\n",
      "Epoch 146/150\n",
      "4/4 [==============================] - 1s 92ms/step - loss: 0.0509\n",
      "Epoch 147/150\n",
      "4/4 [==============================] - 0s 87ms/step - loss: 0.0503\n",
      "Epoch 148/150\n",
      "4/4 [==============================] - 0s 87ms/step - loss: 0.0500\n",
      "Epoch 149/150\n",
      "4/4 [==============================] - 0s 86ms/step - loss: 0.0492\n",
      "Epoch 150/150\n",
      "4/4 [==============================] - 0s 88ms/step - loss: 0.0475\n"
     ]
    }
   ],
   "source": [
    "history = model.fit(dataset, epochs=EPOCHS, callbacks=[checkpoint_callback])"
   ]
  },
  {
   "cell_type": "markdown",
   "metadata": {},
   "source": [
    "#### Generate text"
   ]
  },
  {
   "cell_type": "code",
   "execution_count": 108,
   "metadata": {},
   "outputs": [],
   "source": [
    "class OneStep(tf.keras.Model):\n",
    "  def __init__(self, model, chars_from_ids, ids_from_chars, temperature=1.0):\n",
    "    super().__init__()\n",
    "    self.temperature = temperature\n",
    "    self.model = model\n",
    "    self.chars_from_ids = chars_from_ids\n",
    "    self.ids_from_chars = ids_from_chars\n",
    "\n",
    "    # Create a mask to prevent \"[UNK]\" from being generated.\n",
    "    skip_ids = self.ids_from_chars(['[UNK]'])[:, None]\n",
    "    sparse_mask = tf.SparseTensor(\n",
    "        # Put a -inf at each bad index.\n",
    "        values=[-float('inf')]*len(skip_ids),\n",
    "        indices=skip_ids,\n",
    "        # Match the shape to the vocabulary\n",
    "        dense_shape=[len(ids_from_chars.get_vocabulary())])\n",
    "    self.prediction_mask = tf.sparse.to_dense(sparse_mask)\n",
    "\n",
    "  @tf.function\n",
    "  def generate_one_step(self, inputs, states=None):\n",
    "    # Convert strings to token IDs.\n",
    "    input_chars = tf.strings.unicode_split(inputs, 'UTF-8')\n",
    "    input_ids = self.ids_from_chars(input_chars).to_tensor()\n",
    "\n",
    "    # Run the model.\n",
    "    # predicted_logits.shape is [batch, char, next_char_logits]\n",
    "    predicted_logits, states = self.model(inputs=input_ids, states=states,\n",
    "                                          return_state=True)\n",
    "    # Only use the last prediction.\n",
    "    predicted_logits = predicted_logits[:, -1, :]\n",
    "    predicted_logits = predicted_logits/self.temperature\n",
    "    # Apply the prediction mask: prevent \"[UNK]\" from being generated.\n",
    "    predicted_logits = predicted_logits + self.prediction_mask\n",
    "\n",
    "    # Sample the output logits to generate token IDs.\n",
    "    predicted_ids = tf.random.categorical(predicted_logits, num_samples=1)\n",
    "    predicted_ids = tf.squeeze(predicted_ids, axis=-1)\n",
    "\n",
    "    # Convert from token ids to characters\n",
    "    predicted_chars = self.chars_from_ids(predicted_ids)\n",
    "\n",
    "    # Return the characters and model state.\n",
    "    return predicted_chars, states"
   ]
  },
  {
   "cell_type": "code",
   "execution_count": 109,
   "metadata": {},
   "outputs": [],
   "source": [
    "one_step_model = OneStep(model, chars_from_ids, ids_from_chars)"
   ]
  },
  {
   "cell_type": "code",
   "execution_count": 110,
   "metadata": {},
   "outputs": [
    {
     "name": "stdout",
     "output_type": "stream",
     "text": [
      "DIABO\n",
      "À barca, lugo no!\n",
      "PARVO\n",
      "Ao Inferno? Pentanfo sada.\n",
      "Vol tanta terra alinha,\n",
      "A pensar nos eupornfado\n",
      "Que foi da tua sapitos?\n",
      "A telheras sou perio.\n",
      "–NZENou no que era el.\n",
      "SAPATEIRO\n",
      "Ó da barca!\n",
      "DIABO\n",
      "Que quereis?\n",
      "CORREGEDOR\n",
      "Está aqui o senhor juiz?\n",
      "DIABO\n",
      "Oh amarquem me digais.\n",
      "JUDEU\n",
      "Eis aqui quatro tostões,\n",
      "E maiso parre inforca.\n",
      "Oh alas entrará isso bém,\n",
      "Nom toPATEIROS\n",
      "E osfria do mou ei entonde,\n",
      "Que ninguem me deixais.\n",
      "CAVanho de cortrna o entanca! Oh! Qua tão está\n",
      "Leva quem rouba de praça.\n",
      "Oh almas embaraçás,\n",
      "Sou sem rodo em mais alguém,\n",
      "Merecedor de tal bem,\n",
      "Que deva entrar aqui.\n",
      "Vem ambarcai e partiremos:\n",
      "Tomareis um par drízoda\n",
      "Com ou tocisso, seu fado no batel do Anjo io betel!\n",
      "ANJO\n",
      "Oh! haboatas lovar de Ansento!\n",
      "Peltu de vós prazeres.\n",
      "CORREGEDOR\n",
      "E onde vai o batel?\n",
      "DIABO\n",
      "No Inão nogatais esta cá!\n",
      "Mai quem andenadoeres de ir.\n",
      "ONZENEIRO\n",
      "E vamos já partir?\n",
      "DIABO\n",
      "Não penses em mais delença.\n",
      "FIDALGO\n",
      "E porqui, de ouvi?...\n",
      "– dirigindo-se ao  \n",
      "\n",
      "________________________________________________________________________________\n",
      "\n",
      "Run time: 5.140041828155518\n"
     ]
    }
   ],
   "source": [
    "start = time.time()\n",
    "states = None\n",
    "next_char = tf.constant(['DIABO'])\n",
    "result = [next_char]\n",
    "\n",
    "for n in range(1000):\n",
    "  next_char, states = one_step_model.generate_one_step(next_char, states=states)\n",
    "  result.append(next_char)\n",
    "\n",
    "result = tf.strings.join(result)\n",
    "end = time.time()\n",
    "print(result[0].numpy().decode('utf-8'), '\\n\\n' + '_'*80)\n",
    "print('\\nRun time:', end - start)"
   ]
  },
  {
   "cell_type": "markdown",
   "metadata": {},
   "source": [
    "### Export the generator"
   ]
  },
  {
   "cell_type": "code",
   "execution_count": 111,
   "metadata": {},
   "outputs": [
    {
     "name": "stdout",
     "output_type": "stream",
     "text": [
      "WARNING:tensorflow:Skipping full serialization of Keras layer <__main__.OneStep object at 0x0000025BCEDACF10>, because it is not built.\n"
     ]
    },
    {
     "name": "stderr",
     "output_type": "stream",
     "text": [
      "WARNING:absl:Found untraced functions such as gru_cell_3_layer_call_fn, gru_cell_3_layer_call_and_return_conditional_losses, gru_cell_3_layer_call_fn, gru_cell_3_layer_call_and_return_conditional_losses, gru_cell_3_layer_call_and_return_conditional_losses while saving (showing 5 of 5). These functions will not be directly callable after loading.\n"
     ]
    },
    {
     "name": "stdout",
     "output_type": "stream",
     "text": [
      "INFO:tensorflow:Assets written to: one_step\\assets\n"
     ]
    },
    {
     "name": "stderr",
     "output_type": "stream",
     "text": [
      "INFO:tensorflow:Assets written to: one_step\\assets\n"
     ]
    }
   ],
   "source": [
    "tf.saved_model.save(one_step_model, 'one_step')"
   ]
  },
  {
   "cell_type": "markdown",
   "metadata": {},
   "source": [
    "Retrieve the generator"
   ]
  },
  {
   "cell_type": "code",
   "execution_count": 112,
   "metadata": {},
   "outputs": [],
   "source": [
    "one_step_reloaded = tf.saved_model.load('one_step')"
   ]
  },
  {
   "cell_type": "code",
   "execution_count": 113,
   "metadata": {},
   "outputs": [
    {
     "name": "stdout",
     "output_type": "stream",
     "text": [
      "DIABO\n",
      "Itborquetiti, que Barre tão senvor.\n",
      "ANJO\n",
      "Atará cá muito que levevis\n",
      "Hei a pão que te caiu!\n",
      "A m\n"
     ]
    }
   ],
   "source": [
    "states = None\n",
    "next_char = tf.constant(['DIABO'])\n",
    "result = [next_char]\n",
    "\n",
    "for n in range(100):\n",
    "  next_char, states = one_step_reloaded.generate_one_step(next_char, states=states)\n",
    "  result.append(next_char)\n",
    "\n",
    "print(tf.strings.join(result)[0].numpy().decode(\"utf-8\"))"
   ]
  }
 ],
 "metadata": {
  "kernelspec": {
   "display_name": "Python 3.9.12 ('tf-gpu')",
   "language": "python",
   "name": "python3"
  },
  "language_info": {
   "codemirror_mode": {
    "name": "ipython",
    "version": 3
   },
   "file_extension": ".py",
   "mimetype": "text/x-python",
   "name": "python",
   "nbconvert_exporter": "python",
   "pygments_lexer": "ipython3",
   "version": "3.9.12"
  },
  "orig_nbformat": 4,
  "vscode": {
   "interpreter": {
    "hash": "022a3aa652217c8032e622be5aba66fd58e58f1ee6fb837ab1220b61e6f9b3f6"
   }
  }
 },
 "nbformat": 4,
 "nbformat_minor": 2
}
